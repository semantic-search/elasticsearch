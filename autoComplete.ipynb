{
 "metadata": {
  "language_info": {
   "codemirror_mode": {
    "name": "ipython",
    "version": 3
   },
   "file_extension": ".py",
   "mimetype": "text/x-python",
   "name": "python",
   "nbconvert_exporter": "python",
   "pygments_lexer": "ipython3",
   "version": "3.6.9-final"
  },
  "orig_nbformat": 2,
  "kernelspec": {
   "name": "python36964bitdd93f6605d1f44019a4c01b9def995fd",
   "display_name": "Python 3.6.9 64-bit"
  }
 },
 "nbformat": 4,
 "nbformat_minor": 2,
 "cells": [
  {
   "cell_type": "code",
   "execution_count": 29,
   "metadata": {},
   "outputs": [],
   "source": [
    "from elasticsearch import Elasticsearch \n",
    "\n",
    "es=Elasticsearch([{'host':'52.188.166.61','port':9200}])\n"
   ]
  },
  {
   "cell_type": "code",
   "execution_count": 39,
   "metadata": {},
   "outputs": [],
   "source": [
    "# mapping dictionary that contains the settings and\n",
    "# _mapping schema for a new Elasticsearch index:\n",
    "# \"mappings\" and \"properties\" fields are mandatory and all of the index’s property fields\n",
    "mapping = {\n",
    "    \"settings\": {\n",
    "        \"number_of_shards\": 2,\n",
    "        \"number_of_replicas\": 1\n",
    "    },\n",
    "    \"mappings\": {\n",
    "        \"properties\": {\n",
    "            \"first_name\": {\n",
    "                \"type\": \"text\" # formerly \"string\"\n",
    "            },\n",
    "             \"last_name\": {\n",
    "                \"type\": \"text\" # formerly \"string\"\n",
    "            },\n",
    "            \"age\": {\n",
    "                \"type\": \"integer\"\n",
    "            },\n",
    "             \"about\": {\n",
    "                \"type\": \"completion\"\n",
    "            },\n",
    "            \"interests\": {\n",
    "                \"type\": \"text\" # used in sorting, aggregations,etc.\n",
    "            }\n",
    "        }\n",
    "    }\n",
    "}"
   ]
  },
  {
   "cell_type": "code",
   "execution_count": 43,
   "metadata": {
    "tags": []
   },
   "outputs": [
    {
     "output_type": "stream",
     "name": "stdout",
     "text": "{'acknowledged': True}\n"
    }
   ],
   "source": [
    "# TO DELETE INDEX IF EXIST\n",
    "if es.indices.exists('company'):\n",
    "    res = es.indices.delete(index='company', ignore=[400, 404], request_timeout=45)\n",
    "    print(res)"
   ]
  },
  {
   "cell_type": "code",
   "execution_count": 44,
   "metadata": {
    "tags": []
   },
   "outputs": [
    {
     "output_type": "stream",
     "name": "stdout",
     "text": "INDEX MAPPING SUCCESS FOR INDEX: company\n\nresponse: {'acknowledged': True, 'shards_acknowledged': True, 'index': 'company'}\n"
    }
   ],
   "source": [
    "response = es.indices.create(\n",
    "    index=\"company\",\n",
    "    body=mapping,\n",
    "    ignore=400 # ignore 400 already exists code\n",
    ")\n",
    "\n",
    "if 'acknowledged' in response:\n",
    "    if response['acknowledged'] == True:\n",
    "        print (\"INDEX MAPPING SUCCESS FOR INDEX:\", response['index'])\n",
    "\n",
    "# catch API error response\n",
    "elif 'error' in response:\n",
    "    print (\"ERROR:\", response['error']['root_cause'])\n",
    "    print (\"TYPE:\", response['error']['type'])\n",
    "\n",
    "# print out the response:\n",
    "print ('\\nresponse:', response)"
   ]
  },
  {
   "cell_type": "code",
   "execution_count": 45,
   "metadata": {
    "tags": []
   },
   "outputs": [
    {
     "output_type": "stream",
     "name": "stdout",
     "text": "Elasticsearch index() ERROR: RequestError(400, 'illegal_argument_exception', \"can't merge a non object mapping [about] with an object mapping\")\n"
    }
   ],
   "source": [
    "e1={\n",
    "    \"first_name\":\"nitin\",\n",
    "    \"last_name\":\"panwar\",\n",
    "    \"age\": 27,\n",
    "    \"about\": {\n",
    "        \"input\": [ \"Nevermind\", \"Nirvana\" ],\n",
    "        \"weight\" : 34\n",
    "    },\n",
    "    \"interests\": ['sports','music'],\n",
    "}\n",
    "\n",
    "# Inserting a document\n",
    "try:\n",
    "    res = es.index(index='company',doc_type='employee',id=1,body=e1, request_timeout=45)\n",
    "    print(res)\n",
    "except Exception as err:\n",
    "    print (\"Elasticsearch index() ERROR:\", err)"
   ]
  },
  {
   "cell_type": "code",
   "execution_count": null,
   "metadata": {},
   "outputs": [],
   "source": []
  }
 ]
}