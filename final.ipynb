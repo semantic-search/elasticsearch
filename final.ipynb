{
 "metadata": {
  "language_info": {
   "codemirror_mode": {
    "name": "ipython",
    "version": 3
   },
   "file_extension": ".py",
   "mimetype": "text/x-python",
   "name": "python",
   "nbconvert_exporter": "python",
   "pygments_lexer": "ipython3",
   "version": "3.6.9-final"
  },
  "orig_nbformat": 2,
  "kernelspec": {
   "name": "python36964bitdd93f6605d1f44019a4c01b9def995fd",
   "display_name": "Python 3.6.9 64-bit"
  }
 },
 "nbformat": 4,
 "nbformat_minor": 2,
 "cells": [
  {
   "cell_type": "code",
   "execution_count": 5,
   "metadata": {},
   "outputs": [],
   "source": [
    "from elasticsearch import Elasticsearch \n",
    "\n",
    "es=Elasticsearch([{'host':'52.188.166.61','port':9200}])"
   ]
  },
  {
   "cell_type": "code",
   "execution_count": 6,
   "metadata": {
    "tags": []
   },
   "outputs": [
    {
     "output_type": "stream",
     "name": "stdout",
     "text": "[{'_index': 'store', '_type': '_doc', '_id': 'HSdnp3QBuJGxg6BxUvjL', '_score': 2.449361, '_source': {'name': 'Dozen Apples', 'price': '2.49', 'quantity': '12', 'department': 'Produce'}}, {'_index': 'store', '_type': '_doc', '_id': 'ISdnp3QBuJGxg6BxUvjL', '_score': 2.449361, '_source': {'name': 'Dozen Sodas', 'price': '2.49', 'quantity': '12', 'department': 'Produce'}}]\n"
    }
   ],
   "source": [
    "res= es.search(index='store',body={\n",
    "        \"query\": {\n",
    "            \"match\": {\n",
    "                \"name\": {\n",
    "                \"query\": \"doz\",\n",
    "                \"analyzer\": \"autocomplete_analyzer\"\n",
    "                 }\n",
    "            }\n",
    "        }\n",
    "    })\n",
    "print(res['hits']['hits'])"
   ]
  },
  {
   "cell_type": "code",
   "execution_count": 7,
   "metadata": {
    "tags": []
   },
   "outputs": [
    {
     "output_type": "stream",
     "name": "stdout",
     "text": "{'_index': 'store', '_type': '_doc', '_id': 'Xidpp3QBuJGxg6Bxhfje', '_version': 1, 'result': 'created', '_shards': {'total': 2, 'successful': 1, 'failed': 0}, '_seq_no': 8, '_primary_term': 1}\n"
    }
   ],
   "source": [
    "data={\n",
    "        \"name\": \"Super Wasabi\",\n",
    "        \"price\": \"5.29\",\n",
    "        \"quantity\": \"12\",\n",
    "        \"department\": \"Meat and Seafood\",\n",
    "}\n",
    "res=es.index(index='store',body=data)\n",
    "print(res)"
   ]
  },
  {
   "cell_type": "code",
   "execution_count": null,
   "metadata": {},
   "outputs": [],
   "source": []
  }
 ]
}